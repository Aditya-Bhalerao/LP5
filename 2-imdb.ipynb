{
 "cells": [
  {
   "cell_type": "code",
   "execution_count": 1,
   "id": "c20c7daa-35fb-4758-b26f-b81300613c07",
   "metadata": {},
   "outputs": [
    {
     "name": "stderr",
     "output_type": "stream",
     "text": [
      "2024-04-29 01:04:19.695817: E external/local_xla/xla/stream_executor/cuda/cuda_dnn.cc:9261] Unable to register cuDNN factory: Attempting to register factory for plugin cuDNN when one has already been registered\n",
      "2024-04-29 01:04:19.695862: E external/local_xla/xla/stream_executor/cuda/cuda_fft.cc:607] Unable to register cuFFT factory: Attempting to register factory for plugin cuFFT when one has already been registered\n",
      "2024-04-29 01:04:19.696546: E external/local_xla/xla/stream_executor/cuda/cuda_blas.cc:1515] Unable to register cuBLAS factory: Attempting to register factory for plugin cuBLAS when one has already been registered\n",
      "2024-04-29 01:04:19.701733: I tensorflow/core/platform/cpu_feature_guard.cc:182] This TensorFlow binary is optimized to use available CPU instructions in performance-critical operations.\n",
      "To enable the following instructions: AVX2 FMA, in other operations, rebuild TensorFlow with the appropriate compiler flags.\n",
      "2024-04-29 01:04:20.314137: W tensorflow/compiler/tf2tensorrt/utils/py_utils.cc:38] TF-TRT Warning: Could not find TensorRT\n"
     ]
    },
    {
     "name": "stdout",
     "output_type": "stream",
     "text": [
      "Epoch 1/5\n",
      "500/500 [==============================] - 96s 189ms/step - loss: 0.3967 - accuracy: 0.8158 - val_loss: 0.3071 - val_accuracy: 0.8681\n",
      "Epoch 2/5\n",
      "500/500 [==============================] - 98s 196ms/step - loss: 0.1943 - accuracy: 0.9263 - val_loss: 0.3513 - val_accuracy: 0.8534\n",
      "Epoch 3/5\n",
      "500/500 [==============================] - 100s 200ms/step - loss: 0.1072 - accuracy: 0.9625 - val_loss: 0.4097 - val_accuracy: 0.8497\n",
      "Epoch 4/5\n",
      "500/500 [==============================] - 98s 196ms/step - loss: 0.0618 - accuracy: 0.9799 - val_loss: 0.5260 - val_accuracy: 0.8464\n",
      "Epoch 5/5\n",
      "500/500 [==============================] - 99s 197ms/step - loss: 0.0395 - accuracy: 0.9880 - val_loss: 0.6076 - val_accuracy: 0.8449\n",
      "250/250 [==============================] - 4s 13ms/step - loss: 0.6076 - accuracy: 0.8449\n",
      "Accuracy: 84.49%\n"
     ]
    }
   ],
   "source": [
    "import pandas as pd\n",
    "import numpy as np\n",
    "from sklearn.model_selection import train_test_split\n",
    "from tensorflow.keras.preprocessing.text import Tokenizer\n",
    "from tensorflow.keras.preprocessing.sequence import pad_sequences\n",
    "from tensorflow.keras.models import Sequential\n",
    "from tensorflow.keras.layers import Embedding, LSTM, Dense\n",
    "\n",
    "# Load the dataset\n",
    "df = pd.read_csv('./data2/Train.csv')\n",
    "\n",
    "# Preprocessing\n",
    "texts = df['text'].values\n",
    "labels = df['label'].values\n",
    "\n",
    "# Tokenize the text\n",
    "tokenizer = Tokenizer()\n",
    "tokenizer.fit_on_texts(texts)\n",
    "word_index = tokenizer.word_index\n",
    "sequences = tokenizer.texts_to_sequences(texts)\n",
    "\n",
    "# Padding sequences\n",
    "max_length = 100  # adjust as needed\n",
    "padded_sequences = pad_sequences(sequences, maxlen=max_length, padding='post')\n",
    "\n",
    "# Split the data into training and testing sets\n",
    "X_train, X_test, y_train, y_test = train_test_split(padded_sequences, labels, test_size=0.2, random_state=42)\n",
    "\n",
    "# Define the model architecture\n",
    "model = Sequential([\n",
    "    Embedding(len(word_index) + 1, 128, input_length=max_length),\n",
    "    LSTM(64),\n",
    "    Dense(1, activation='sigmoid')\n",
    "])\n",
    "\n",
    "# Compile the model\n",
    "model.compile(loss='binary_crossentropy', optimizer='adam', metrics=['accuracy'])\n",
    "\n",
    "# Train the model\n",
    "model.fit(X_train, y_train, epochs=5, batch_size=64, validation_data=(X_test, y_test))\n",
    "\n",
    "# Evaluate the model\n",
    "loss, accuracy = model.evaluate(X_test, y_test)\n",
    "print(f'Accuracy: {accuracy * 100:.2f}%')\n"
   ]
  },
  {
   "cell_type": "code",
   "execution_count": 6,
   "id": "14d87c35-e443-4601-afe2-ff5ee2b3d87b",
   "metadata": {},
   "outputs": [
    {
     "name": "stdout",
     "output_type": "stream",
     "text": [
      "1/1 [==============================] - 0s 20ms/step\n",
      "Random Review:\n",
      "Dane tries to hard and is to extreme with all of his yelling and going crazy, spilling water on himself and rolling on the floor. To much. Calm down, get yourself together and make us laugh. I didn't quite understand his comparison toward comics and rock stars. Just because there both up on stage or something? He said that every comedian wants to be a rock star. I'm sure Rodney Dangerfield was really into that when he was alive. He had a few good jokes like the Burger King joke where people yell at the drive thru. I also liked the Reese's Pieces joke. If Dane just didn't act so mental he might be funnier and I might have given this a higher rating, as high as maybe an eight.\n",
      "\n",
      "Predicted sentiment: negative with probability 0.01\n"
     ]
    }
   ],
   "source": [
    "import random\n",
    "\n",
    "# Assuming you have already trained and have the model object available\n",
    "# Assuming you have loaded the dataset into 'df'\n",
    "\n",
    "# Select a random review from the dataset\n",
    "random_index = random.randint(0, len(df) - 1)\n",
    "random_review = df.loc[random_index, 'text']\n",
    "\n",
    "# Tokenize and preprocess the review text\n",
    "sequence = tokenizer.texts_to_sequences([random_review])\n",
    "padded_sequence = pad_sequences(sequence, maxlen=max_length, padding='post')\n",
    "\n",
    "# Predict sentiment\n",
    "predicted_prob = model.predict(padded_sequence)[0][0]\n",
    "\n",
    "# Convert probability to sentiment label\n",
    "predicted_sentiment = 'positive' if predicted_prob >= 0.5 else 'negative'\n",
    "\n",
    "print(\"Random Review:\")\n",
    "print(random_review)\n",
    "print(f\"\\nPredicted sentiment: {predicted_sentiment} with probability {predicted_prob:.2f}\")\n"
   ]
  },
  {
   "cell_type": "code",
   "execution_count": 7,
   "id": "72455684-708d-47ce-823b-4b4f8e356db5",
   "metadata": {},
   "outputs": [
    {
     "data": {
      "text/html": [
       "<div>\n",
       "<style scoped>\n",
       "    .dataframe tbody tr th:only-of-type {\n",
       "        vertical-align: middle;\n",
       "    }\n",
       "\n",
       "    .dataframe tbody tr th {\n",
       "        vertical-align: top;\n",
       "    }\n",
       "\n",
       "    .dataframe thead th {\n",
       "        text-align: right;\n",
       "    }\n",
       "</style>\n",
       "<table border=\"1\" class=\"dataframe\">\n",
       "  <thead>\n",
       "    <tr style=\"text-align: right;\">\n",
       "      <th></th>\n",
       "      <th>text</th>\n",
       "      <th>label</th>\n",
       "    </tr>\n",
       "  </thead>\n",
       "  <tbody>\n",
       "    <tr>\n",
       "      <th>0</th>\n",
       "      <td>I grew up (b. 1965) watching and loving the Th...</td>\n",
       "      <td>0</td>\n",
       "    </tr>\n",
       "    <tr>\n",
       "      <th>1</th>\n",
       "      <td>When I put this movie in my DVD player, and sa...</td>\n",
       "      <td>0</td>\n",
       "    </tr>\n",
       "    <tr>\n",
       "      <th>2</th>\n",
       "      <td>Why do people who do not know what a particula...</td>\n",
       "      <td>0</td>\n",
       "    </tr>\n",
       "  </tbody>\n",
       "</table>\n",
       "</div>"
      ],
      "text/plain": [
       "                                                text  label\n",
       "0  I grew up (b. 1965) watching and loving the Th...      0\n",
       "1  When I put this movie in my DVD player, and sa...      0\n",
       "2  Why do people who do not know what a particula...      0"
      ]
     },
     "execution_count": 7,
     "metadata": {},
     "output_type": "execute_result"
    }
   ],
   "source": [
    "df.head(3)"
   ]
  },
  {
   "cell_type": "code",
   "execution_count": null,
   "id": "3c1b173c-4158-473a-98f7-76e546fdf0cc",
   "metadata": {},
   "outputs": [],
   "source": []
  }
 ],
 "metadata": {
  "kernelspec": {
   "display_name": "Python 3 (ipykernel)",
   "language": "python",
   "name": "python3"
  },
  "language_info": {
   "codemirror_mode": {
    "name": "ipython",
    "version": 3
   },
   "file_extension": ".py",
   "mimetype": "text/x-python",
   "name": "python",
   "nbconvert_exporter": "python",
   "pygments_lexer": "ipython3",
   "version": "3.10.12"
  }
 },
 "nbformat": 4,
 "nbformat_minor": 5
}
